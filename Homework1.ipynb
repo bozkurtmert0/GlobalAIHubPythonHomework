{
  "nbformat": 4,
  "nbformat_minor": 0,
  "metadata": {
    "colab": {
      "name": "Homework1.ipynb",
      "provenance": [],
      "authorship_tag": "ABX9TyMNPvTV67x6dvga590DCM9g",
      "include_colab_link": true
    },
    "kernelspec": {
      "name": "python3",
      "display_name": "Python 3"
    }
  },
  "cells": [
    {
      "cell_type": "markdown",
      "metadata": {
        "id": "view-in-github",
        "colab_type": "text"
      },
      "source": [
        "<a href=\"https://colab.research.google.com/github/bozkurtmert0/GlobalAIHubPythonHomework/blob/main/Homework1.ipynb\" target=\"_parent\"><img src=\"https://colab.research.google.com/assets/colab-badge.svg\" alt=\"Open In Colab\"/></a>"
      ]
    },
    {
      "cell_type": "markdown",
      "metadata": {
        "id": "5Y2ZwTAF2e59"
      },
      "source": [
        "## Ödev 1\r\n",
        "Kullanıcıdan 5 sayı alınacak ve bunların değerleriyle beraber hangi tipte olduğu ekrana bastırılacak"
      ]
    },
    {
      "cell_type": "code",
      "metadata": {
        "colab": {
          "base_uri": "https://localhost:8080/"
        },
        "id": "6yozvGqd14za",
        "outputId": "508a5449-143e-4b12-8c4e-676baf54aa79"
      },
      "source": [
        "a=int(input(\"İnteger değer giriniz: \"))\r\n",
        "b=str(input(\"Bir String değeri giriniz  : \"))\r\n",
        "c=bool(input(\"Bir boolean değeri giriniz: \"))\r\n",
        "d=float(input(\"Bir float değeri giriniz: \"))\r\n",
        "e=complex(input(\"Bir complex(karmaşık sayı) değer giriniz: \"))\r\n",
        "\r\n",
        "print(\"Girdiğiniz değer ----:{} ve sınıfı {}\".format(a,type(a)))\r\n",
        "print(\"Girdiğiniz değer:-----{} ve sınıfı {}\".format(b,type(b)))\r\n",
        "print(\"Girdiğiniz değer:-----{} ve sınıfı {}\".format(c,type(c)))\r\n",
        "print(\"Girdiğiniz değer:-----{} ve sınıfı {}\".format(d,type(d)))\r\n",
        "print(\"Girdiğiniz değer:-----{} ve sınıfı {}\".format(e,type(e)))"
      ],
      "execution_count": 1,
      "outputs": [
        {
          "output_type": "stream",
          "text": [
            "İnteger değer giriniz: 13\n",
            "Bir String değeri giriniz  : mert\n",
            "Bir boolean değeri giriniz: true\n",
            "Bir float değeri giriniz: 3.14\n",
            "Bir complex(karmaşık sayı) değer giriniz: 38\n",
            "Girdiğiniz değer ----:13 ve sınıfı <class 'int'>\n",
            "Girdiğiniz değer:-----mert ve sınıfı <class 'str'>\n",
            "Girdiğiniz değer:-----True ve sınıfı <class 'bool'>\n",
            "Girdiğiniz değer:-----3.14 ve sınıfı <class 'float'>\n",
            "Girdiğiniz değer:-----(38+0j) ve sınıfı <class 'complex'>\n"
          ],
          "name": "stdout"
        }
      ]
    }
  ]
}