{
  "nbformat": 4,
  "nbformat_minor": 0,
  "metadata": {
    "colab": {
      "name": "Homework2.ipynb",
      "provenance": [],
      "authorship_tag": "ABX9TyOjlSDAUuTRPyUSTlcuPDaN",
      "include_colab_link": true
    },
    "kernelspec": {
      "name": "python3",
      "display_name": "Python 3"
    }
  },
  "cells": [
    {
      "cell_type": "markdown",
      "metadata": {
        "id": "view-in-github",
        "colab_type": "text"
      },
      "source": [
        "<a href=\"https://colab.research.google.com/github/bozkurtmert0/GlobalAIHubPythonHomework/blob/main/Homework2.ipynb\" target=\"_parent\"><img src=\"https://colab.research.google.com/assets/colab-badge.svg\" alt=\"Open In Colab\"/></a>"
      ]
    },
    {
      "cell_type": "markdown",
      "metadata": {
        "id": "5Y2ZwTAF2e59"
      },
      "source": [
        "### Ödev 2\r\n",
        "Kullanıcıyla ilgili ad , soyad ,yaşı ve doğum yılı bilgilerini kullanıcıdan al ve bir listede tut. Ardından bu listenin elemanlarını for döngüsü ile yazdır.\r\n",
        "Yaiı 18 den küçükse sokağa çıkamayacağını ,18 den büyükse çıkabileceğini belirten bir çıktı bastır."
      ]
    },
    {
      "cell_type": "code",
      "metadata": {
        "colab": {
          "base_uri": "https://localhost:8080/"
        },
        "id": "6yozvGqd14za",
        "outputId": "09d419b9-96a8-458d-c0c4-dfa3bd357157"
      },
      "source": [
        "bilgiler=[]\r\n",
        "\r\n",
        "#girdileri alma kısmı\r\n",
        "ismi=input(\"İsminizi giriniz: \")\r\n",
        "soyismi=input(\"Soyisminizi giriniz: \")\r\n",
        "yasi=int(input(\"Yaşınızı giriniz: \"))\r\n",
        "dogum_yili=int(input(\"Doğum yılını giriniz: \"))\r\n",
        "\r\n",
        "#listeye ekleme işlemleri\r\n",
        "bilgiler.append(ismi)\r\n",
        "bilgiler.append(soyismi)\r\n",
        "bilgiler.append(yasi)\r\n",
        "bilgiler.append(dogum_yili)\r\n",
        "\r\n",
        "for i in bilgiler:\r\n",
        "  print(i)\r\n",
        "\r\n",
        "if yasi<18:\r\n",
        "  print(\"You can't go out because it's too dangerous.\")\r\n",
        "\r\n",
        "elif yasi >= 18:\r\n",
        "  print(\"You can go out to the street.\")\r\n",
        "\r\n",
        "else:\r\n",
        "  print(\"Gecersiz giris\")"
      ],
      "execution_count": 2,
      "outputs": [
        {
          "output_type": "stream",
          "text": [
            "İsminizi giriniz: Mert\n",
            "Soyisminizi giriniz: Bozkurt\n",
            "Yaşınızı giriniz: 20\n",
            "Doğum yılını giriniz: 2000\n",
            "Mert\n",
            "Bozkurt\n",
            "20\n",
            "2000\n",
            "You can go out to the street.\n"
          ],
          "name": "stdout"
        }
      ]
    },
    {
      "cell_type": "code",
      "metadata": {
        "id": "ARsipTKS3l7X"
      },
      "source": [
        ""
      ],
      "execution_count": null,
      "outputs": []
    }
  ]
}